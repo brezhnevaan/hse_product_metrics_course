{
 "cells": [
  {
   "cell_type": "markdown",
   "id": "20658c40-96f9-4237-96e4-b8d8adfc7584",
   "metadata": {},
   "source": [
    "## Домашка 1\n",
    "#### *«Великаны — как луковицы. Лук многослоен! Я тоже! Слой за слоем. Ты усёк? Мы многослойные!» — Шрек*\n",
    "\n",
    "Эта домашка про декомпозицию и срезы. За неё можно получить максимум 6 баллов. На решение отводится **14 календарных дней** с момента выдачи. Обратите внимание, что **дедлайны на курсе сразу жёсткие**, а значит отправка решений после них запрещена.\n",
    "Задание выполняется самостоятельно, списывания не допускаются. При обнаружении одинаковых работ балл за задание анулируется у всех студентов, вне зависимости от того, кто у кого списал.\n",
    "\n",
    "#### **Как сдать домашку?**\n",
    "1. Скачайте этот ноутбук.\n",
    "2. Решите задания (локально или в Google Colab). \n",
    "3. Опубликуйте решенный ноутбук в свой GitHub репозиторий (проверьте, чтобы он был публичным).\n",
    "4. Приложите ссылку на решение в Яндекс-Форму для сдачи ДЗ (будет доступна на LMS Karpov Courses и в Телеграм-канале курса).\n",
    "\n",
    "**Внимание**: Если вы работаете в Google Colab, также скачивайте .ipynb файл и публикуйте его в репозитории. Ссылки на Colab к сдаче не принимаются.\n",
    "\n",
    "\n",
    "Все датасеты, с которыми предлагается работать в домашних заданиях, взяты из открытых источников или сгенерированы. Любые паттерны, найденные вне заданной канвы решения, являются случайными и не несут в себе смысла или инсайта.\n",
    "\n",
    "[Данные](https://github.com/brezhnevaan/hse_product_metrics_course/releases/download/datasets_for_hw/hw_1_data.zip)"
   ]
  },
  {
   "cell_type": "code",
   "execution_count": 1,
   "id": "7e8ac2ff-9a7b-470f-8cd2-329e3c147da6",
   "metadata": {},
   "outputs": [],
   "source": [
    "import numpy as np\n",
    "import pandas as pd\n",
    "from datetime import datetime\n",
    "import matplotlib.pyplot as plt"
   ]
  },
  {
   "cell_type": "markdown",
   "id": "456b2ee2-ede4-4e8b-b00d-2cd5951060b2",
   "metadata": {},
   "source": [
    "### Case Study. Что-то пошло не так в маркетплейсе 🛒\n",
    "\n",
    "**Легенда**  \n",
    "Вы работаете продуктовым аналитиком в маркетплейсе. Ваша команда отвечает за функционал корзины — точки входа, дизайн и функционал самой корзины, путь пользователя с момента добавления товара в корзину и до оформления покупки. \n",
    "\n",
    "Компания — стартап без системы автоматического мониторинга. Поэтому последние 14 дней, пока вы были в отпуске, никто не следил за метриками корзины. \n",
    "\n",
    "Вы отлично отдохнули и в первый же день после каникул рвётесь в бой. Наливаете чашку кофе, открываете ноутбук и проверяете, что творилось в ваше отсутствие."
   ]
  },
  {
   "cell_type": "code",
   "execution_count": 2,
   "id": "84233a26-2065-47a9-ad1f-cbc435f065fe",
   "metadata": {},
   "outputs": [],
   "source": [
    "df = pd.read_parquet('data/hw_1_marketplace_data.parquet')"
   ]
  },
  {
   "cell_type": "code",
   "execution_count": 3,
   "id": "fde89b76-1aaf-4535-9f17-e0d837db64f6",
   "metadata": {},
   "outputs": [
    {
     "data": {
      "text/html": [
       "<div>\n",
       "<style scoped>\n",
       "    .dataframe tbody tr th:only-of-type {\n",
       "        vertical-align: middle;\n",
       "    }\n",
       "\n",
       "    .dataframe tbody tr th {\n",
       "        vertical-align: top;\n",
       "    }\n",
       "\n",
       "    .dataframe thead th {\n",
       "        text-align: right;\n",
       "    }\n",
       "</style>\n",
       "<table border=\"1\" class=\"dataframe\">\n",
       "  <thead>\n",
       "    <tr style=\"text-align: right;\">\n",
       "      <th></th>\n",
       "      <th>user_id</th>\n",
       "      <th>session_id</th>\n",
       "      <th>event_ts</th>\n",
       "      <th>platform</th>\n",
       "      <th>app_version</th>\n",
       "      <th>region</th>\n",
       "      <th>channel</th>\n",
       "      <th>category</th>\n",
       "      <th>event</th>\n",
       "      <th>product_id</th>\n",
       "      <th>price</th>\n",
       "      <th>quantity</th>\n",
       "    </tr>\n",
       "  </thead>\n",
       "  <tbody>\n",
       "    <tr>\n",
       "      <th>0</th>\n",
       "      <td>30</td>\n",
       "      <td>1094418511</td>\n",
       "      <td>2025-04-01 19:49:57</td>\n",
       "      <td>Desktop</td>\n",
       "      <td>web</td>\n",
       "      <td>siberia</td>\n",
       "      <td>ads_search</td>\n",
       "      <td>None</td>\n",
       "      <td>search</td>\n",
       "      <td>NaN</td>\n",
       "      <td>NaN</td>\n",
       "      <td>NaN</td>\n",
       "    </tr>\n",
       "    <tr>\n",
       "      <th>1</th>\n",
       "      <td>30</td>\n",
       "      <td>1094418511</td>\n",
       "      <td>2025-04-01 20:02:23</td>\n",
       "      <td>Desktop</td>\n",
       "      <td>web</td>\n",
       "      <td>siberia</td>\n",
       "      <td>ads_search</td>\n",
       "      <td>electronics</td>\n",
       "      <td>view_item</td>\n",
       "      <td>123443.0</td>\n",
       "      <td>NaN</td>\n",
       "      <td>NaN</td>\n",
       "    </tr>\n",
       "    <tr>\n",
       "      <th>2</th>\n",
       "      <td>30</td>\n",
       "      <td>1094418511</td>\n",
       "      <td>2025-04-01 20:22:53</td>\n",
       "      <td>Desktop</td>\n",
       "      <td>web</td>\n",
       "      <td>siberia</td>\n",
       "      <td>ads_search</td>\n",
       "      <td>fashion</td>\n",
       "      <td>view_item</td>\n",
       "      <td>162950.0</td>\n",
       "      <td>NaN</td>\n",
       "      <td>NaN</td>\n",
       "    </tr>\n",
       "    <tr>\n",
       "      <th>3</th>\n",
       "      <td>30</td>\n",
       "      <td>1094418511</td>\n",
       "      <td>2025-04-01 20:40:57</td>\n",
       "      <td>Desktop</td>\n",
       "      <td>web</td>\n",
       "      <td>siberia</td>\n",
       "      <td>ads_search</td>\n",
       "      <td>home</td>\n",
       "      <td>view_item</td>\n",
       "      <td>199979.0</td>\n",
       "      <td>NaN</td>\n",
       "      <td>NaN</td>\n",
       "    </tr>\n",
       "    <tr>\n",
       "      <th>4</th>\n",
       "      <td>30</td>\n",
       "      <td>1094418511</td>\n",
       "      <td>2025-04-01 20:41:07</td>\n",
       "      <td>Desktop</td>\n",
       "      <td>web</td>\n",
       "      <td>siberia</td>\n",
       "      <td>ads_search</td>\n",
       "      <td>home</td>\n",
       "      <td>add_to_cart</td>\n",
       "      <td>199979.0</td>\n",
       "      <td>NaN</td>\n",
       "      <td>NaN</td>\n",
       "    </tr>\n",
       "  </tbody>\n",
       "</table>\n",
       "</div>"
      ],
      "text/plain": [
       "   user_id  session_id            event_ts platform app_version   region  \\\n",
       "0       30  1094418511 2025-04-01 19:49:57  Desktop         web  siberia   \n",
       "1       30  1094418511 2025-04-01 20:02:23  Desktop         web  siberia   \n",
       "2       30  1094418511 2025-04-01 20:22:53  Desktop         web  siberia   \n",
       "3       30  1094418511 2025-04-01 20:40:57  Desktop         web  siberia   \n",
       "4       30  1094418511 2025-04-01 20:41:07  Desktop         web  siberia   \n",
       "\n",
       "      channel     category        event  product_id  price  quantity  \n",
       "0  ads_search         None       search         NaN    NaN       NaN  \n",
       "1  ads_search  electronics    view_item    123443.0    NaN       NaN  \n",
       "2  ads_search      fashion    view_item    162950.0    NaN       NaN  \n",
       "3  ads_search         home    view_item    199979.0    NaN       NaN  \n",
       "4  ads_search         home  add_to_cart    199979.0    NaN       NaN  "
      ]
     },
     "execution_count": 3,
     "metadata": {},
     "output_type": "execute_result"
    }
   ],
   "source": [
    "df.head()"
   ]
  },
  {
   "cell_type": "markdown",
   "id": "72edc1f1-817e-4008-bb00-bbea8eb7d4e7",
   "metadata": {},
   "source": [
    "Описание данных\n",
    "\n",
    "- user_id — уникальный идентификатор пользователя\n",
    "- session_id — уникальный идентификатор сессии\n",
    "- event_ts — таймстемп событий\n",
    "- platform — платформа, с которой пришло событие\n",
    "- app_version — версия приложения (существует только для iOS и Android, для остальных платформ приходят значения-заглушки)\n",
    "- region — регион пользователя\n",
    "- channel — канал, с которого пришел пользователь\n",
    "- category — категория товаров, которой принадлежит ивент\n",
    "- event — событие, совершенное пользователем\n",
    "- product_id — идентификатор товара для событий над товарами\n",
    "- price — цена товара, ивент приходит только для события покупки\n",
    "- quantity — количество товаров, ивент приходит только для события покупки"
   ]
  },
  {
   "cell_type": "markdown",
   "id": "757eabc6-a7fb-4039-b6ef-0c289db96db6",
   "metadata": {},
   "source": [
    "#### **1. Детекция проблемы — 1 балл**\n",
    "\n",
    "1) Посчитайте подневные конверсии: из просмотра в покупку, из просмотра в добавление в корзину, из добавления в корзину — в покупку.\n",
    "2) Визуализируйте полученную динамику. \n",
    "3) Опишите, что вы видите на графике: когда и в каких метриках началось падение? есть ли устойчивый тренд?\n",
    "\n",
    "*К подсчёту конверсий можно подойти разными способами — считать их по событиям, сессиям или уникальным юзерам. В нашей задаче будем считать по сессиям.*"
   ]
  },
  {
   "cell_type": "code",
   "execution_count": 13,
   "id": "d614b741-6776-49a5-a95f-54edc58dc7cf",
   "metadata": {},
   "outputs": [],
   "source": [
    "# your code is here"
   ]
  },
  {
   "cell_type": "markdown",
   "id": "c52a2d1f-a780-4f51-a755-bb0d89b7738b",
   "metadata": {},
   "source": [
    "#### **2. Проверка абсолютных и средних значений — 1 балл**\n",
    "\n",
    "1) Постройте графики дневной динамики абсолютных значений, из которых рассчитаны конверсии выше.\n",
    "2) Рассчитайте и визуализируйте среднее число событий (именно событий, не сессий), из которых рассчитаны конверсии, на пользователя. \n",
    "3) На каком этапе воронки появилась проблема?"
   ]
  },
  {
   "cell_type": "code",
   "execution_count": 6,
   "id": "0a6e8ecd-2a48-40ea-b75f-276cc583716b",
   "metadata": {},
   "outputs": [],
   "source": [
    "# your code is here"
   ]
  },
  {
   "cell_type": "markdown",
   "id": "03c82bf7-629f-4815-a008-44a5df13fce6",
   "metadata": {},
   "source": [
    "#### **3. Базовые срезы — 1 балл**\n",
    "1. Постройте динамику проблемного события в разрезе:\n",
    "- платформ,\n",
    "- регионов,\n",
    "- источников трафика,\n",
    "- категорий товаров.\n",
    "\n",
    "2. Есть ли выделяющийся срез?\n",
    "\n",
    "*В этом пункте в качестве события продолжаем смотреть метрику среднего на пользователя*"
   ]
  },
  {
   "cell_type": "code",
   "execution_count": 8,
   "id": "2214ba18-48d3-4ded-b0b0-159fb0093f24",
   "metadata": {},
   "outputs": [],
   "source": [
    "# your code is here"
   ]
  },
  {
   "cell_type": "markdown",
   "id": "c76fa8bb-0a42-4a2e-8c49-3d246a864f29",
   "metadata": {},
   "source": [
    "#### **4. Детальные срезы — 1 балл**\n",
    "1. Постройте динамику события для iOS и Android с разложением по версиям приложения.\n",
    "2. Помогло ли это локализовать проблему?\n",
    "\n",
    "*В этом пункте в качестве события продолжаем смотреть метрику среднего на пользователя*"
   ]
  },
  {
   "cell_type": "code",
   "execution_count": 10,
   "id": "e15beb35-b3ef-4037-bf41-64fa2d842059",
   "metadata": {},
   "outputs": [],
   "source": [
    "# your code is here"
   ]
  },
  {
   "cell_type": "markdown",
   "id": "a6aeedb6-1ff2-406d-93e9-33329ae23bc8",
   "metadata": {},
   "source": [
    "#### **5. Поиск причин — 1 балл**\n",
    "1. Для проблемной платформы постройте динамику ВСЕХ событий в разрезе версий приложения.\n",
    "2. Сформулируйте гипотезу, что именно могло пойти не так в новом релизе? Может быть, пользователи стали заменять один функционал другим?\n",
    "\n",
    "*В этом пункте в качестве событий продолжаем смотреть метрику среднего на пользователя*"
   ]
  },
  {
   "cell_type": "code",
   "execution_count": 12,
   "id": "b521b505-0cd2-400f-88f6-e2f27b5c60a7",
   "metadata": {},
   "outputs": [],
   "source": [
    "# your code is here"
   ]
  },
  {
   "cell_type": "markdown",
   "id": "fbd93a81-818e-454f-86fa-c92ca25392fa",
   "metadata": {},
   "source": [
    "#### **6. Новости для команды — 1 балл**\n",
    "\n",
    "На основе проведённого расследования подготовьте сообщение для команды о том, что именно пошло не так."
   ]
  },
  {
   "cell_type": "code",
   "execution_count": null,
   "id": "a52e92a4-ba36-432d-b58d-77338e492af6",
   "metadata": {},
   "outputs": [],
   "source": []
  }
 ],
 "metadata": {
  "kernelspec": {
   "display_name": "Python 3 (ipykernel)",
   "language": "python",
   "name": "python3"
  },
  "language_info": {
   "codemirror_mode": {
    "name": "ipython",
    "version": 3
   },
   "file_extension": ".py",
   "mimetype": "text/x-python",
   "name": "python",
   "nbconvert_exporter": "python",
   "pygments_lexer": "ipython3",
   "version": "3.12.0"
  }
 },
 "nbformat": 4,
 "nbformat_minor": 5
}
